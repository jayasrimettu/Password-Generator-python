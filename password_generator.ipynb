{
  "nbformat": 4,
  "nbformat_minor": 0,
  "metadata": {
    "colab": {
      "provenance": [],
      "authorship_tag": "ABX9TyPA3hj5lKN/xzXG1PjkqgEw",
      "include_colab_link": true
    },
    "kernelspec": {
      "name": "python3",
      "display_name": "Python 3"
    },
    "language_info": {
      "name": "python"
    },
    "widgets": {
      "application/vnd.jupyter.widget-state+json": {
        "887b407eab3c4df2beb9a3648bf6ed57": {
          "model_module": "@jupyter-widgets/controls",
          "model_name": "IntSliderModel",
          "model_module_version": "1.5.0",
          "state": {
            "_dom_classes": [],
            "_model_module": "@jupyter-widgets/controls",
            "_model_module_version": "1.5.0",
            "_model_name": "IntSliderModel",
            "_view_count": null,
            "_view_module": "@jupyter-widgets/controls",
            "_view_module_version": "1.5.0",
            "_view_name": "IntSliderView",
            "continuous_update": false,
            "description": "Password Length:",
            "description_tooltip": null,
            "disabled": false,
            "layout": "IPY_MODEL_c339e9f679bc4bc29e6bae853498af13",
            "max": 50,
            "min": 4,
            "orientation": "horizontal",
            "readout": true,
            "readout_format": "d",
            "step": 1,
            "style": "IPY_MODEL_77e3d580971a4179b398a6303a31e497",
            "value": 15
          }
        },
        "c339e9f679bc4bc29e6bae853498af13": {
          "model_module": "@jupyter-widgets/base",
          "model_name": "LayoutModel",
          "model_module_version": "1.2.0",
          "state": {
            "_model_module": "@jupyter-widgets/base",
            "_model_module_version": "1.2.0",
            "_model_name": "LayoutModel",
            "_view_count": null,
            "_view_module": "@jupyter-widgets/base",
            "_view_module_version": "1.2.0",
            "_view_name": "LayoutView",
            "align_content": null,
            "align_items": null,
            "align_self": null,
            "border": null,
            "bottom": null,
            "display": null,
            "flex": null,
            "flex_flow": null,
            "grid_area": null,
            "grid_auto_columns": null,
            "grid_auto_flow": null,
            "grid_auto_rows": null,
            "grid_column": null,
            "grid_gap": null,
            "grid_row": null,
            "grid_template_areas": null,
            "grid_template_columns": null,
            "grid_template_rows": null,
            "height": null,
            "justify_content": null,
            "justify_items": null,
            "left": null,
            "margin": null,
            "max_height": null,
            "max_width": null,
            "min_height": null,
            "min_width": null,
            "object_fit": null,
            "object_position": null,
            "order": null,
            "overflow": null,
            "overflow_x": null,
            "overflow_y": null,
            "padding": null,
            "right": null,
            "top": null,
            "visibility": null,
            "width": null
          }
        },
        "77e3d580971a4179b398a6303a31e497": {
          "model_module": "@jupyter-widgets/controls",
          "model_name": "SliderStyleModel",
          "model_module_version": "1.5.0",
          "state": {
            "_model_module": "@jupyter-widgets/controls",
            "_model_module_version": "1.5.0",
            "_model_name": "SliderStyleModel",
            "_view_count": null,
            "_view_module": "@jupyter-widgets/base",
            "_view_module_version": "1.2.0",
            "_view_name": "StyleView",
            "description_width": "initial",
            "handle_color": null
          }
        },
        "a33f42cb2c824fb6b5f73e5d6924302b": {
          "model_module": "@jupyter-widgets/controls",
          "model_name": "DropdownModel",
          "model_module_version": "1.5.0",
          "state": {
            "_dom_classes": [],
            "_model_module": "@jupyter-widgets/controls",
            "_model_module_version": "1.5.0",
            "_model_name": "DropdownModel",
            "_options_labels": [
              "Letters Only",
              "Letters + Digits",
              "Strong (Letters + Digits + Symbols)"
            ],
            "_view_count": null,
            "_view_module": "@jupyter-widgets/controls",
            "_view_module_version": "1.5.0",
            "_view_name": "DropdownView",
            "description": "Complexity:",
            "description_tooltip": null,
            "disabled": false,
            "index": 0,
            "layout": "IPY_MODEL_ba5b026530d640689d426ea92ae9db35",
            "style": "IPY_MODEL_62fc69ca5a5f4951ae15474cf4dedd2b"
          }
        },
        "ba5b026530d640689d426ea92ae9db35": {
          "model_module": "@jupyter-widgets/base",
          "model_name": "LayoutModel",
          "model_module_version": "1.2.0",
          "state": {
            "_model_module": "@jupyter-widgets/base",
            "_model_module_version": "1.2.0",
            "_model_name": "LayoutModel",
            "_view_count": null,
            "_view_module": "@jupyter-widgets/base",
            "_view_module_version": "1.2.0",
            "_view_name": "LayoutView",
            "align_content": null,
            "align_items": null,
            "align_self": null,
            "border": null,
            "bottom": null,
            "display": null,
            "flex": null,
            "flex_flow": null,
            "grid_area": null,
            "grid_auto_columns": null,
            "grid_auto_flow": null,
            "grid_auto_rows": null,
            "grid_column": null,
            "grid_gap": null,
            "grid_row": null,
            "grid_template_areas": null,
            "grid_template_columns": null,
            "grid_template_rows": null,
            "height": null,
            "justify_content": null,
            "justify_items": null,
            "left": null,
            "margin": null,
            "max_height": null,
            "max_width": null,
            "min_height": null,
            "min_width": null,
            "object_fit": null,
            "object_position": null,
            "order": null,
            "overflow": null,
            "overflow_x": null,
            "overflow_y": null,
            "padding": null,
            "right": null,
            "top": null,
            "visibility": null,
            "width": null
          }
        },
        "62fc69ca5a5f4951ae15474cf4dedd2b": {
          "model_module": "@jupyter-widgets/controls",
          "model_name": "DescriptionStyleModel",
          "model_module_version": "1.5.0",
          "state": {
            "_model_module": "@jupyter-widgets/controls",
            "_model_module_version": "1.5.0",
            "_model_name": "DescriptionStyleModel",
            "_view_count": null,
            "_view_module": "@jupyter-widgets/base",
            "_view_module_version": "1.2.0",
            "_view_name": "StyleView",
            "description_width": "initial"
          }
        },
        "c343c98151aa4e7f807199da5aa4ecd7": {
          "model_module": "@jupyter-widgets/controls",
          "model_name": "ButtonModel",
          "model_module_version": "1.5.0",
          "state": {
            "_dom_classes": [],
            "_model_module": "@jupyter-widgets/controls",
            "_model_module_version": "1.5.0",
            "_model_name": "ButtonModel",
            "_view_count": null,
            "_view_module": "@jupyter-widgets/controls",
            "_view_module_version": "1.5.0",
            "_view_name": "ButtonView",
            "button_style": "success",
            "description": "🔄 Generate Password",
            "disabled": false,
            "icon": "",
            "layout": "IPY_MODEL_6981abf6776a458aa1a889601fc23a23",
            "style": "IPY_MODEL_a834a0e386eb43bba9de065b6e43f2a9",
            "tooltip": ""
          }
        },
        "6981abf6776a458aa1a889601fc23a23": {
          "model_module": "@jupyter-widgets/base",
          "model_name": "LayoutModel",
          "model_module_version": "1.2.0",
          "state": {
            "_model_module": "@jupyter-widgets/base",
            "_model_module_version": "1.2.0",
            "_model_name": "LayoutModel",
            "_view_count": null,
            "_view_module": "@jupyter-widgets/base",
            "_view_module_version": "1.2.0",
            "_view_name": "LayoutView",
            "align_content": null,
            "align_items": null,
            "align_self": null,
            "border": null,
            "bottom": null,
            "display": null,
            "flex": null,
            "flex_flow": null,
            "grid_area": null,
            "grid_auto_columns": null,
            "grid_auto_flow": null,
            "grid_auto_rows": null,
            "grid_column": null,
            "grid_gap": null,
            "grid_row": null,
            "grid_template_areas": null,
            "grid_template_columns": null,
            "grid_template_rows": null,
            "height": null,
            "justify_content": null,
            "justify_items": null,
            "left": null,
            "margin": null,
            "max_height": null,
            "max_width": null,
            "min_height": null,
            "min_width": null,
            "object_fit": null,
            "object_position": null,
            "order": null,
            "overflow": null,
            "overflow_x": null,
            "overflow_y": null,
            "padding": null,
            "right": null,
            "top": null,
            "visibility": null,
            "width": null
          }
        },
        "a834a0e386eb43bba9de065b6e43f2a9": {
          "model_module": "@jupyter-widgets/controls",
          "model_name": "ButtonStyleModel",
          "model_module_version": "1.5.0",
          "state": {
            "_model_module": "@jupyter-widgets/controls",
            "_model_module_version": "1.5.0",
            "_model_name": "ButtonStyleModel",
            "_view_count": null,
            "_view_module": "@jupyter-widgets/base",
            "_view_module_version": "1.2.0",
            "_view_name": "StyleView",
            "button_color": null,
            "font_weight": ""
          }
        }
      }
    }
  },
  "cells": [
    {
      "cell_type": "markdown",
      "metadata": {
        "id": "view-in-github",
        "colab_type": "text"
      },
      "source": [
        "<a href=\"https://colab.research.google.com/github/jayasrimettu/Password-Generator-python/blob/main/password_generator.ipynb\" target=\"_parent\"><img src=\"https://colab.research.google.com/assets/colab-badge.svg\" alt=\"Open In Colab\"/></a>"
      ]
    },
    {
      "cell_type": "code",
      "source": [
        "import random\n",
        "import string\n",
        "from IPython.display import display, HTML\n",
        "import ipywidgets as widgets\n",
        "\n",
        "# Function to generate password\n",
        "def generate_password(length, complexity):\n",
        "    if complexity == \"Letters Only\":\n",
        "        chars = string.ascii_letters\n",
        "    elif complexity == \"Letters + Digits\":\n",
        "        chars = string.ascii_letters + string.digits\n",
        "    else:\n",
        "        chars = string.ascii_letters + string.digits + string.punctuation\n",
        "\n",
        "    password = ''.join(random.choice(chars) for _ in range(length))\n",
        "    return password\n",
        "\n",
        "# Function to estimate strength\n",
        "def password_strength(password):\n",
        "    score = 0\n",
        "    if any(c.islower() for c in password):\n",
        "        score += 1\n",
        "    if any(c.isupper() for c in password):\n",
        "        score += 1\n",
        "    if any(c.isdigit() for c in password):\n",
        "        score += 1\n",
        "    if any(c in string.punctuation for c in password):\n",
        "        score += 1\n",
        "\n",
        "    if score <= 1:\n",
        "        return \"Weak\", \"#ff5252\"\n",
        "    elif score == 2:\n",
        "        return \"Moderate\", \"#ff9800\"\n",
        "    elif score == 3:\n",
        "        return \"Strong\", \"#4caf50\"\n",
        "    else:\n",
        "        return \"Very Strong\", \"#00e676\"\n",
        "\n",
        "# Display function\n",
        "def display_password(b):\n",
        "    length = int(length_slider.value)\n",
        "    complexity = complexity_dropdown.value\n",
        "    password = generate_password(length, complexity)\n",
        "    strength, color = password_strength(password)\n",
        "\n",
        "    html_output = f\"\"\"\n",
        "    <div style='\n",
        "        background-color: #212121;\n",
        "        padding: 20px;\n",
        "        border-radius: 10px;\n",
        "        color: #ffffff;\n",
        "        font-family: monospace;\n",
        "        font-size: 18px;\n",
        "    '>\n",
        "        <b style='color: #00e5ff;'>🔐 Your Password:</b><br>\n",
        "        <span id='pwd' style='font-size:24px; color: #d500f9;'>{password}</span><br><br>\n",
        "        <button onclick=\"navigator.clipboard.writeText(document.getElementById('pwd').textContent)\"\n",
        "            style='background-color:#4caf50; color:#fff; padding:10px; border:none; border-radius:5px; cursor:pointer;'>\n",
        "            📋 Copy to Clipboard\n",
        "        </button><br><br>\n",
        "        <span style='color: {color}; font-weight:bold;'>Strength: {strength}</span>\n",
        "    </div>\n",
        "    \"\"\"\n",
        "    display(HTML(html_output))\n",
        "\n",
        "# Widgets\n",
        "length_slider = widgets.IntSlider(\n",
        "    value=12,\n",
        "    min=4,\n",
        "    max=50,\n",
        "    step=1,\n",
        "    description='Password Length:',\n",
        "    style={'description_width': 'initial'},\n",
        "    continuous_update=False\n",
        ")\n",
        "\n",
        "complexity_dropdown = widgets.Dropdown(\n",
        "    options=['Letters Only', 'Letters + Digits', 'Strong (Letters + Digits + Symbols)'],\n",
        "    value='Strong (Letters + Digits + Symbols)',\n",
        "    description='Complexity:',\n",
        "    style={'description_width': 'initial'}\n",
        ")\n",
        "\n",
        "generate_button = widgets.Button(\n",
        "    description='🔄 Generate Password',\n",
        "    button_style='success'\n",
        ")\n",
        "\n",
        "generate_button.on_click(display_password)\n",
        "\n",
        "display(length_slider, complexity_dropdown, generate_button)\n"
      ],
      "metadata": {
        "colab": {
          "base_uri": "https://localhost:8080/",
          "height": 703,
          "referenced_widgets": [
            "887b407eab3c4df2beb9a3648bf6ed57",
            "c339e9f679bc4bc29e6bae853498af13",
            "77e3d580971a4179b398a6303a31e497",
            "a33f42cb2c824fb6b5f73e5d6924302b",
            "ba5b026530d640689d426ea92ae9db35",
            "62fc69ca5a5f4951ae15474cf4dedd2b",
            "c343c98151aa4e7f807199da5aa4ecd7",
            "6981abf6776a458aa1a889601fc23a23",
            "a834a0e386eb43bba9de065b6e43f2a9"
          ]
        },
        "id": "OSzwK-f_DacW",
        "outputId": "b1963b20-f89d-4831-a7d1-70197f7cc991"
      },
      "execution_count": 5,
      "outputs": [
        {
          "output_type": "display_data",
          "data": {
            "text/plain": [
              "IntSlider(value=12, continuous_update=False, description='Password Length:', max=50, min=4, style=SliderStyle(…"
            ],
            "application/vnd.jupyter.widget-view+json": {
              "version_major": 2,
              "version_minor": 0,
              "model_id": "887b407eab3c4df2beb9a3648bf6ed57"
            }
          },
          "metadata": {}
        },
        {
          "output_type": "display_data",
          "data": {
            "text/plain": [
              "Dropdown(description='Complexity:', index=2, options=('Letters Only', 'Letters + Digits', 'Strong (Letters + D…"
            ],
            "application/vnd.jupyter.widget-view+json": {
              "version_major": 2,
              "version_minor": 0,
              "model_id": "a33f42cb2c824fb6b5f73e5d6924302b"
            }
          },
          "metadata": {}
        },
        {
          "output_type": "display_data",
          "data": {
            "text/plain": [
              "Button(button_style='success', description='🔄 Generate Password', style=ButtonStyle())"
            ],
            "application/vnd.jupyter.widget-view+json": {
              "version_major": 2,
              "version_minor": 0,
              "model_id": "c343c98151aa4e7f807199da5aa4ecd7"
            }
          },
          "metadata": {}
        },
        {
          "output_type": "display_data",
          "data": {
            "text/plain": [
              "<IPython.core.display.HTML object>"
            ],
            "text/html": [
              "\n",
              "    <div style='\n",
              "        background-color: #212121;\n",
              "        padding: 20px;\n",
              "        border-radius: 10px;\n",
              "        color: #ffffff;\n",
              "        font-family: monospace;\n",
              "        font-size: 18px;\n",
              "    '>\n",
              "        <b style='color: #00e5ff;'>🔐 Your Password:</b><br>\n",
              "        <span id='pwd' style='font-size:24px; color: #d500f9;'>;C5Hr}Gqkp$iwItB0w.#24Gw</span><br><br>\n",
              "        <button onclick=\"navigator.clipboard.writeText(document.getElementById('pwd').textContent)\" \n",
              "            style='background-color:#4caf50; color:#fff; padding:10px; border:none; border-radius:5px; cursor:pointer;'>\n",
              "            📋 Copy to Clipboard\n",
              "        </button><br><br>\n",
              "        <span style='color: #00e676; font-weight:bold;'>Strength: Very Strong</span>\n",
              "    </div>\n",
              "    "
            ]
          },
          "metadata": {}
        },
        {
          "output_type": "display_data",
          "data": {
            "text/plain": [
              "<IPython.core.display.HTML object>"
            ],
            "text/html": [
              "\n",
              "    <div style='\n",
              "        background-color: #212121;\n",
              "        padding: 20px;\n",
              "        border-radius: 10px;\n",
              "        color: #ffffff;\n",
              "        font-family: monospace;\n",
              "        font-size: 18px;\n",
              "    '>\n",
              "        <b style='color: #00e5ff;'>🔐 Your Password:</b><br>\n",
              "        <span id='pwd' style='font-size:24px; color: #d500f9;'>>zqDHMh>ca@g$jTwuUFhV~TH8kKYGR]W@>H^U-NO</span><br><br>\n",
              "        <button onclick=\"navigator.clipboard.writeText(document.getElementById('pwd').textContent)\" \n",
              "            style='background-color:#4caf50; color:#fff; padding:10px; border:none; border-radius:5px; cursor:pointer;'>\n",
              "            📋 Copy to Clipboard\n",
              "        </button><br><br>\n",
              "        <span style='color: #00e676; font-weight:bold;'>Strength: Very Strong</span>\n",
              "    </div>\n",
              "    "
            ]
          },
          "metadata": {}
        },
        {
          "output_type": "display_data",
          "data": {
            "text/plain": [
              "<IPython.core.display.HTML object>"
            ],
            "text/html": [
              "\n",
              "    <div style='\n",
              "        background-color: #212121;\n",
              "        padding: 20px;\n",
              "        border-radius: 10px;\n",
              "        color: #ffffff;\n",
              "        font-family: monospace;\n",
              "        font-size: 18px;\n",
              "    '>\n",
              "        <b style='color: #00e5ff;'>🔐 Your Password:</b><br>\n",
              "        <span id='pwd' style='font-size:24px; color: #d500f9;'>GrCbtTyAkKKQtLr</span><br><br>\n",
              "        <button onclick=\"navigator.clipboard.writeText(document.getElementById('pwd').textContent)\" \n",
              "            style='background-color:#4caf50; color:#fff; padding:10px; border:none; border-radius:5px; cursor:pointer;'>\n",
              "            📋 Copy to Clipboard\n",
              "        </button><br><br>\n",
              "        <span style='color: #ff9800; font-weight:bold;'>Strength: Moderate</span>\n",
              "    </div>\n",
              "    "
            ]
          },
          "metadata": {}
        }
      ]
    }
  ]
}