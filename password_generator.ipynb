{
  "nbformat": 4,
  "nbformat_minor": 0,
  "metadata": {
    "colab": {
      "provenance": [],
      "authorship_tag": "ABX9TyMsBXxQ6oVu0spz5XLV+1Va",
      "include_colab_link": true
    },
    "kernelspec": {
      "name": "python3",
      "display_name": "Python 3"
    },
    "language_info": {
      "name": "python"
    }
  },
  "cells": [
    {
      "cell_type": "markdown",
      "metadata": {
        "id": "view-in-github",
        "colab_type": "text"
      },
      "source": [
        "<a href=\"https://colab.research.google.com/github/jayasrimettu/Password-Generator-python/blob/main/password_generator.ipynb\" target=\"_parent\"><img src=\"https://colab.research.google.com/assets/colab-badge.svg\" alt=\"Open In Colab\"/></a>"
      ]
    },
    {
      "cell_type": "code",
      "source": [
        "import random\n",
        "import string\n",
        "\n",
        "def generate_password(length, complexity):\n",
        "\n",
        "    if length <= 0:\n",
        "        return \"Invalid length!\"\n",
        "\n",
        "    if complexity == \"letters\":\n",
        "        chars = string.ascii_letters\n",
        "    elif complexity == \"letters_digits\":\n",
        "        chars = string.ascii_letters + string.digits\n",
        "    elif complexity == \"strong\":\n",
        "        chars = string.ascii_letters + string.digits + string.punctuation\n",
        "    else:\n",
        "        return \"Invalid complexity choice.\"\n",
        "\n",
        "    password = ''.join(random.choice(chars) for _ in range(length))\n",
        "    return password\n",
        "\n",
        "if __name__ == \"__main__\":\n",
        "    print(\"=== Password Generator ===\")\n",
        "    try:\n",
        "        length = int(input(\"Enter desired password length: \"))\n",
        "        print(\"Select complexity level:\")\n",
        "        print(\"1 - Letters only\")\n",
        "        print(\"2 - Letters + Digits\")\n",
        "        print(\"3 - Strong (Letters + Digits + Symbols)\")\n",
        "        choice = input(\"Your choice (1/2/3): \").strip()\n",
        "\n",
        "        if choice == \"1\":\n",
        "            complexity = \"letters\"\n",
        "        elif choice == \"2\":\n",
        "            complexity = \"letters_digits\"\n",
        "        elif choice == \"3\":\n",
        "            complexity = \"strong\"\n",
        "        else:\n",
        "            print(\"Invalid choice.\")\n",
        "            exit()\n",
        "\n",
        "        pwd = generate_password(length, complexity)\n",
        "        print(f\"\\nGenerated Password: {pwd}\")\n",
        "    except ValueError:\n",
        "        print(\"Please enter a valid number.\")\n"
      ],
      "metadata": {
        "colab": {
          "base_uri": "https://localhost:8080/"
        },
        "id": "g8O2V7ywF8aD",
        "outputId": "1275c1ac-7f5e-41a8-ba43-5ac267f76c21"
      },
      "execution_count": 15,
      "outputs": [
        {
          "output_type": "stream",
          "name": "stdout",
          "text": [
            "=== Password Generator ===\n",
            "Enter desired password length: 5\n",
            "Select complexity level:\n",
            "1 - Letters only\n",
            "2 - Letters + Digits\n",
            "3 - Strong (Letters + Digits + Symbols)\n",
            "Your choice (1/2/3): 1\n",
            "\n",
            "Generated Password: wJfLC\n"
          ]
        }
      ]
    }
  ]
}